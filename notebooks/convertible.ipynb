{
 "cells": [
  {
   "cell_type": "code",
   "execution_count": 1,
   "metadata": {},
   "outputs": [],
   "source": [
    "import pandas as pd"
   ]
  },
  {
   "cell_type": "code",
   "execution_count": 44,
   "metadata": {
    "collapsed": true
   },
   "outputs": [],
   "source": [
    "# cblist = pd.read_json('https://www.jisilu.cn/data/cbnew/cb_list/')\n",
    "# cblist = pd.read_json(r'..\\data\\raw\\cblist.json')\n",
    "cblist = pd.read_json(r'data/raw/cblist.json')"
   ]
  },
  {
   "cell_type": "code",
   "execution_count": 42,
   "metadata": {},
   "outputs": [
    {
     "data": {
      "text/html": [
       "<div>\n",
       "<style scoped>\n",
       "    .dataframe tbody tr th:only-of-type {\n",
       "        vertical-align: middle;\n",
       "    }\n",
       "\n",
       "    .dataframe tbody tr th {\n",
       "        vertical-align: top;\n",
       "    }\n",
       "\n",
       "    .dataframe thead th {\n",
       "        text-align: right;\n",
       "    }\n",
       "</style>\n",
       "<table border=\"1\" class=\"dataframe\">\n",
       "  <thead>\n",
       "    <tr style=\"text-align: right;\">\n",
       "      <th></th>\n",
       "      <th>page</th>\n",
       "      <th>rows</th>\n",
       "      <th>total</th>\n",
       "    </tr>\n",
       "  </thead>\n",
       "  <tbody>\n",
       "    <tr>\n",
       "      <th>0</th>\n",
       "      <td>1</td>\n",
       "      <td>{'id': '127008', 'cell': {'bond_id': '127008',...</td>\n",
       "      <td>115</td>\n",
       "    </tr>\n",
       "    <tr>\n",
       "      <th>1</th>\n",
       "      <td>1</td>\n",
       "      <td>{'id': '110044', 'cell': {'bond_id': '110044',...</td>\n",
       "      <td>115</td>\n",
       "    </tr>\n",
       "    <tr>\n",
       "      <th>2</th>\n",
       "      <td>1</td>\n",
       "      <td>{'id': '123012', 'cell': {'bond_id': '123012',...</td>\n",
       "      <td>115</td>\n",
       "    </tr>\n",
       "    <tr>\n",
       "      <th>3</th>\n",
       "      <td>1</td>\n",
       "      <td>{'id': '128039', 'cell': {'bond_id': '128039',...</td>\n",
       "      <td>115</td>\n",
       "    </tr>\n",
       "    <tr>\n",
       "      <th>4</th>\n",
       "      <td>1</td>\n",
       "      <td>{'id': '113519', 'cell': {'bond_id': '113519',...</td>\n",
       "      <td>115</td>\n",
       "    </tr>\n",
       "  </tbody>\n",
       "</table>\n",
       "</div>"
      ],
      "text/plain": [
       "<div>\n",
       "<style scoped>\n",
       "    .dataframe tbody tr th:only-of-type {\n",
       "        vertical-align: middle;\n",
       "    }\n",
       "\n",
       "    .dataframe tbody tr th {\n",
       "        vertical-align: top;\n",
       "    }\n",
       "\n",
       "    .dataframe thead th {\n",
       "        text-align: right;\n",
       "    }\n",
       "</style>\n",
       "<table border=\"1\" class=\"dataframe\">\n",
       "  <thead>\n",
       "    <tr style=\"text-align: right;\">\n",
       "      <th></th>\n",
       "      <th>page</th>\n",
       "      <th>rows</th>\n",
       "      <th>total</th>\n",
       "    </tr>\n",
       "  </thead>\n",
       "  <tbody>\n",
       "    <tr>\n",
       "      <th>0</th>\n",
       "      <td>1</td>\n",
       "      <td>{'id': '127008', 'cell': {'bond_id': '127008',...</td>\n",
       "      <td>115</td>\n",
       "    </tr>\n",
       "    <tr>\n",
       "      <th>1</th>\n",
       "      <td>1</td>\n",
       "      <td>{'id': '110044', 'cell': {'bond_id': '110044',...</td>\n",
       "      <td>115</td>\n",
       "    </tr>\n",
       "    <tr>\n",
       "      <th>2</th>\n",
       "      <td>1</td>\n",
       "      <td>{'id': '123012', 'cell': {'bond_id': '123012',...</td>\n",
       "      <td>115</td>\n",
       "    </tr>\n",
       "    <tr>\n",
       "      <th>3</th>\n",
       "      <td>1</td>\n",
       "      <td>{'id': '128039', 'cell': {'bond_id': '128039',...</td>\n",
       "      <td>115</td>\n",
       "    </tr>\n",
       "    <tr>\n",
       "      <th>4</th>\n",
       "      <td>1</td>\n",
       "      <td>{'id': '113519', 'cell': {'bond_id': '113519',...</td>\n",
       "      <td>115</td>\n",
       "    </tr>\n",
       "  </tbody>\n",
       "</table>\n",
       "</div>"
      ]
     },
     "execution_count": 42,
     "metadata": {},
     "output_type": "execute_result"
    }
   ],
   "source": [
    "cblist.head()"
   ]
  },
  {
   "cell_type": "code",
   "execution_count": 18,
   "metadata": {},
   "outputs": [],
   "source": [
    "recorder = cblist.loc[1]['rows']"
   ]
  },
  {
   "cell_type": "code",
   "execution_count": 19,
   "metadata": {},
   "outputs": [
    {
     "data": {
      "text/plain": [
       "'sh600831'"
      ]
     },
     "execution_count": 19,
     "metadata": {},
     "output_type": "execute_result"
    }
   ],
   "source": [
    "recorder['cell']['stock_id']"
   ]
  },
  {
   "cell_type": "code",
   "execution_count": 24,
   "metadata": {},
   "outputs": [],
   "source": [
    "cb_dict = cblist.to_dict(orient='list')"
   ]
  },
  {
   "cell_type": "code",
   "execution_count": 25,
   "metadata": {},
   "outputs": [
    {
     "data": {
      "text/plain": [
       "dict_keys(['page', 'rows', 'total'])"
      ]
     },
     "execution_count": 25,
     "metadata": {},
     "output_type": "execute_result"
    }
   ],
   "source": [
    "cb_dict.keys()"
   ]
  },
  {
   "cell_type": "code",
   "execution_count": 33,
   "metadata": {},
   "outputs": [
    {
     "data": {
      "text/plain": [
       "[{'cell': {'active_fl': 'y',\n   'adj_cnt': 0,\n   'adj_scnt': 0,\n   'adjust_tc': '鍦ㄦ湰娆″彂琛岀殑鍙�杞�鍊哄瓨缁�鏈熼棿锛屽綋鍏�鍙� A 鑲¤偂绁ㄥ湪浠绘剰杩炵画浜屽崄涓�浜ゆ槗鏃ヤ腑鑷冲皯鏈夊崄涓�浜ゆ槗鏃ョ殑鏀剁洏浠蜂綆浜庡綋鏈熻浆鑲′环鏍肩殑 90%鏃讹紝',\n   'adjust_tip': '',\n   'adq_rating': None,\n   'apply_cd': '070070',\n   'bond_id': '127008',\n   'bond_nm': '鐗瑰彂杞�鍊�',\n   'btype': 'C',\n   'convert_amt_ratio': '9.3%',\n   'convert_cd': '鏈�鍒拌浆鑲℃湡',\n   'convert_dt': '2019-05-22',\n   'convert_price': '6.780',\n   'convert_value': '105.60',\n   'cpn_desc': '绗�涓�骞翠负 0.40%銆佺��浜屽勾涓� 0.60%銆佺��涓夊勾涓� 1.00%銆佺��鍥涘勾涓� 1.50%銆佺��浜斿勾涓� 2.00%',\n   'curr_iss_amt': '4.194',\n   'force_redeem': None,\n   'force_redeem_price': '8.81',\n   'full_price': '100.000',\n   'fund_rt': 'buy',\n   'guarantor': '鏃犳媴淇�',\n   'increase_rt': '0.00%',\n   'issue_dt': '2018-11-16',\n   'last_time': None,\n   'left_put_year': '-',\n   'list_dt': None,\n   'market': 'sz',\n   'maturity_dt': '2023-11-16',\n   'next_put_dt': '2021-11-16',\n   'online_offline_ratio': None,\n   'orig_iss_amt': '4.194',\n   'owned': 0,\n   'pb': '2.11',\n   'pinyin': 'tfzz',\n   'pre_bond_id': 'sz127008',\n   'premium_rt': '-5.31%',\n   'price': '100.000',\n   'price_tips': '寰呬笂甯�',\n   'put_convert_price': '4.75',\n   'put_convert_price_ratio': '66.28',\n   'put_count_days': 30,\n   'put_dt': None,\n   'put_inc_cpn_fl': 'y',\n   'put_notes': None,\n   'put_price': '100.000',\n   'put_real_days': 0,\n   'put_tc': '鏈�娆″彂琛岀殑鍙�杞�鍊烘渶鍚庝袱涓�璁℃伅骞村害锛屽�傛灉鍏�鍙歌偂绁ㄥ湪浠讳綍杩炵画涓夊崄涓�浜ゆ槗鏃ョ殑鏀剁洏浠蜂綆浜庡綋鏈熻浆鑲′环鏍肩殑 70%鏃�',\n   'put_total_days': 30,\n   'qflag': 'N',\n   'qflag2': 'N',\n   'rating_cd': 'AA',\n   'ration': '0.6689',\n   'ration_cd': '080070',\n   'ration_rt': '45.920',\n   'real_force_redeem_price': None,\n   'redeem_count_days': 15,\n   'redeem_dt': None,\n   'redeem_inc_cpn_fl': 'n',\n   'redeem_price': '108.000',\n   'redeem_price_ratio': '130.000',\n   'redeem_real_days': 0,\n   'redeem_tc': '鍦ㄦ湰娆″彂琛岀殑鍙�杞�鍊鸿浆鑲℃湡鍐咃紝濡傛灉鍏�鍙� A 鑲¤偂绁ㄨ繛缁�涓夊崄涓�浜ゆ槗鏃ヤ腑鑷冲皯鏈夊崄浜斾釜浜ゆ槗鏃ョ殑鏀剁洏浠蜂笉浣庝簬褰撴湡杞�鑲′环鏍肩殑 130%锛堝惈锛�',\n   'redeem_total_days': 30,\n   'ref_yield_info': '',\n   'repo_cd': None,\n   'repo_discount_rt': '0.00',\n   'repo_valid': '鏈夋晥鏈燂細-',\n   'repo_valid_from': None,\n   'repo_valid_to': None,\n   'short_maturity_dt': '23-11-16',\n   'sincrease_rt': '-4.66%',\n   'sprice': '7.16',\n   'sqflg': 'Y',\n   'stock_amt': '62699.4700',\n   'stock_cd': '000070',\n   'stock_id': 'sz000070',\n   'stock_net_value': '3.39',\n   'stock_nm': '鐗瑰彂淇℃伅',\n   'svolume': '8522.94',\n   'total_shares': '626994746.0',\n   'volume': '0.00',\n   'year_left': '4.967',\n   'ytm_rt': '2.25%',\n   'ytm_rt_tax': '1.81%'},\n  'id': '127008'}]"
      ]
     },
     "execution_count": 33,
     "metadata": {},
     "output_type": "execute_result"
    }
   ],
   "source": [
    "cb_dict['rows'][0:1]"
   ]
  },
  {
   "cell_type": "code",
   "execution_count": null,
   "metadata": {},
   "outputs": [],
   "source": []
  }
 ],
 "metadata": {
  "kernelspec": {
   "display_name": "Python 3",
   "language": "python",
   "name": "python3"
  },
  "language_info": {
   "codemirror_mode": {
    "name": "ipython",
    "version": 3
   },
   "file_extension": ".py",
   "mimetype": "text/x-python",
   "name": "python",
   "nbconvert_exporter": "python",
   "pygments_lexer": "ipython3",
   "version": "3.6.6"
  }
 },
 "nbformat": 4,
 "nbformat_minor": 1
}
