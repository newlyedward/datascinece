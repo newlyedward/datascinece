{
 "cells": [
  {
   "cell_type": "code",
   "execution_count": 28,
   "metadata": {},
   "outputs": [],
   "source": [
    "import json\n",
    "import pandas as pd"
   ]
  },
  {
   "cell_type": "code",
   "execution_count": 12,
   "metadata": {},
   "outputs": [
    {
     "name": "stdout",
     "output_type": "stream",
     "text": [
      "[{'a': 1, 'b': 2, 'c': 3, 'd': 4, 'e': 5}]\n",
      "[{\"a\": 1, \"b\": 2, \"c\": 3, \"d\": 4, \"e\": 5}]\n"
     ]
    }
   ],
   "source": [
    "data = [ { 'a' : 1, 'b' : 2, 'c' : 3, 'd' : 4, 'e' : 5 } ]\n",
    "jsontxt = json.dumps(data)\n",
    "print(data)\n",
    "print(jsontxt)"
   ]
  },
  {
   "cell_type": "code",
   "execution_count": 13,
   "metadata": {},
   "outputs": [],
   "source": [
    "with open(r'data/raw/cblist.json', 'r', encoding='utf-8') as f:\n",
    "    aa = json.load(f)\n",
    "    # f.seek(0)\n",
    "    # bb = json.load(f)"
   ]
  },
  {
   "cell_type": "code",
   "execution_count": 23,
   "metadata": {},
   "outputs": [
    {
     "data": {
      "text/plain": [
       "list"
      ]
     },
     "execution_count": 23,
     "metadata": {},
     "output_type": "execute_result"
    }
   ],
   "source": [
    "bb = aa['rows']\n",
    "type(bb)"
   ]
  },
  {
   "cell_type": "code",
   "execution_count": 26,
   "metadata": {},
   "outputs": [],
   "source": [
    "cc = [x['cell'] for x in bb]"
   ]
  },
  {
   "cell_type": "code",
   "execution_count": 29,
   "metadata": {},
   "outputs": [],
   "source": [
    "cblist = pd.DataFrame(cc)"
   ]
  },
  {
   "cell_type": "code",
   "execution_count": 40,
   "metadata": {},
   "outputs": [
    {
     "data": {
      "text/plain": [
       "Index(['active_fl', 'adj_cnt', 'adj_scnt', 'adjust_tc', 'adjust_tip',\n",
       "       'adq_rating', 'apply_cd', 'bond_id', 'bond_nm', 'btype',\n",
       "       'convert_amt_ratio', 'convert_cd', 'convert_dt', 'convert_price',\n",
       "       'convert_value', 'cpn_desc', 'curr_iss_amt', 'force_redeem',\n",
       "       'force_redeem_price', 'full_price', 'fund_rt', 'guarantor',\n",
       "       'increase_rt', 'issue_dt', 'last_time', 'left_put_year', 'list_dt',\n",
       "       'market', 'maturity_dt', 'next_put_dt', 'online_offline_ratio',\n",
       "       'orig_iss_amt', 'owned', 'pb', 'pinyin', 'pre_bond_id', 'premium_rt',\n",
       "       'price', 'price_tips', 'put_convert_price', 'put_convert_price_ratio',\n",
       "       'put_count_days', 'put_dt', 'put_inc_cpn_fl', 'put_notes', 'put_price',\n",
       "       'put_real_days', 'put_tc', 'put_total_days', 'qflag', 'qflag2',\n",
       "       'rating_cd', 'ration', 'ration_cd', 'ration_rt',\n",
       "       'real_force_redeem_price', 'redeem_count_days', 'redeem_dt',\n",
       "       'redeem_inc_cpn_fl', 'redeem_price', 'redeem_price_ratio',\n",
       "       'redeem_real_days', 'redeem_tc', 'redeem_total_days', 'ref_yield_info',\n",
       "       'repo_cd', 'repo_discount_rt', 'repo_valid', 'repo_valid_from',\n",
       "       'repo_valid_to', 'short_maturity_dt', 'sincrease_rt', 'sprice', 'sqflg',\n",
       "       'stock_amt', 'stock_cd', 'stock_id', 'stock_net_value', 'stock_nm',\n",
       "       'svolume', 'total_shares', 'volume', 'year_left', 'ytm_rt',\n",
       "       'ytm_rt_tax'],\n",
       "      dtype='object')"
      ]
     },
     "execution_count": 40,
     "metadata": {},
     "output_type": "execute_result"
    }
   ],
   "source": [
    "cblist.columns"
   ]
  },
  {
   "cell_type": "code",
   "execution_count": 34,
   "metadata": {},
   "outputs": [
    {
     "data": {
      "text/plain": [
       "115"
      ]
     },
     "execution_count": 34,
     "metadata": {},
     "output_type": "execute_result"
    }
   ],
   "source": [
    "len(cblist)"
   ]
  },
  {
   "cell_type": "code",
   "execution_count": 1,
   "metadata": {},
   "outputs": [],
   "source": [
    "import turtle"
   ]
  },
  {
   "cell_type": "code",
   "execution_count": 2,
   "metadata": {},
   "outputs": [],
   "source": [
    "t = turtle.Pen()\n",
    "t.speed(0)\n",
    "turtle.bgcolor(\"black\")\n",
    "colors = ['red', 'yellow', 'blue', 'green', 'orange', 'purple', 'cyan']\n",
    "sides = 3\n",
    "\n",
    "for x in range(400):\n",
    "    t.color(colors[x % sides])\n",
    "    t.width( x / 20 )\n",
    "    t.forward( 4 * x )\n",
    "    t.left( 360 / sides + 2 )"
   ]
  },
  {
   "cell_type": "code",
   "execution_count": null,
   "metadata": {},
   "outputs": [],
   "source": []
  }
 ],
 "metadata": {
  "kernelspec": {
   "display_name": "Python 3",
   "language": "python",
   "name": "python3"
  },
  "language_info": {
   "codemirror_mode": {
    "name": "ipython",
    "version": 3
   },
   "file_extension": ".py",
   "mimetype": "text/x-python",
   "name": "python",
   "nbconvert_exporter": "python",
   "pygments_lexer": "ipython3",
   "version": "3.6.6"
  }
 },
 "nbformat": 4,
 "nbformat_minor": 2
}
